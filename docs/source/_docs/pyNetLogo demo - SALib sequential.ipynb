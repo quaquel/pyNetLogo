{
 "cells": [
  {
   "cell_type": "markdown",
   "metadata": {},
   "source": [
    "## Example 2: Sensitivity analysis on a NetLogo model with SALib\n",
    "\n",
    "This notebook provides a more advanced example of interaction between NetLogo and a Python environment, using the SALib library (Herman & Usher, 2017; available through the pip package manager) to sample and analyze a suitable experimental design for a Sobol global sensitivity analysis. All files used in the example are available from the pyNetLogo repository at https://github.com/quaquel/pyNetLogo."
   ]
  },
  {
   "cell_type": "code",
   "metadata": {
    "collapsed": true,
    "jupyter": {
     "outputs_hidden": true
    },
    "ExecuteTime": {
     "end_time": "2025-09-28T09:59:00.881162Z",
     "start_time": "2025-09-28T09:59:00.879137Z"
    }
   },
   "source": [
    "# Ensuring compliance of code with both python2 and python3\n",
    "\n",
    "from __future__ import division, print_function\n",
    "\n",
    "try:\n",
    "    from itertools import izip as zip\n",
    "except ImportError:  # will be 3.x series\n",
    "    pass"
   ],
   "outputs": [],
   "execution_count": 14
  },
  {
   "cell_type": "code",
   "metadata": {
    "collapsed": false,
    "jupyter": {
     "outputs_hidden": false
    },
    "ExecuteTime": {
     "end_time": "2025-09-28T09:59:00.907479Z",
     "start_time": "2025-09-28T09:59:00.905107Z"
    }
   },
   "source": [
    "%matplotlib inline\n",
    "\n",
    "import numpy as np\n",
    "import pandas as pd\n",
    "import matplotlib.pyplot as plt\n",
    "import seaborn as sns\n",
    "\n",
    "import pynetlogo\n",
    "\n",
    "# Import the sampling and analysis modules for a Sobol variance-based sensitivity analysis\n",
    "from SALib.sample import sobol as sobol_sample\n",
    "from SALib.analyze import sobol"
   ],
   "outputs": [],
   "execution_count": 15
  },
  {
   "cell_type": "markdown",
   "metadata": {},
   "source": "dSALib relies on a problem definition dictionary which contains the number of input parameters to sample, their names (which should here correspond to a NetLogo global variable), and the sampling bounds. Documentation for SALib can be found at https://salib.readthedocs.io/en/latest/."
  },
  {
   "cell_type": "code",
   "metadata": {
    "collapsed": false,
    "jupyter": {
     "outputs_hidden": false
    },
    "ExecuteTime": {
     "end_time": "2025-09-28T09:59:00.917844Z",
     "start_time": "2025-09-28T09:59:00.915360Z"
    }
   },
   "source": [
    "problem = {\n",
    "    \"num_vars\": 6,\n",
    "    \"names\": [\n",
    "        \"random-seed\",\n",
    "        \"grass-regrowth-time\",\n",
    "        \"sheep-gain-from-food\",\n",
    "        \"wolf-gain-from-food\",\n",
    "        \"sheep-reproduce\",\n",
    "        \"wolf-reproduce\",\n",
    "    ],\n",
    "    \"bounds\": [\n",
    "        [1, 100000],\n",
    "        [20.0, 40.0],\n",
    "        [2.0, 8.0],\n",
    "        [16.0, 32.0],\n",
    "        [2.0, 8.0],\n",
    "        [2.0, 8.0],\n",
    "    ],\n",
    "}"
   ],
   "outputs": [],
   "execution_count": 16
  },
  {
   "cell_type": "markdown",
   "metadata": {},
   "source": [
    "We start by instantiating the wolf-sheep predation example model, specifying the _gui=False_ flag to run in headless mode."
   ]
  },
  {
   "cell_type": "code",
   "metadata": {
    "collapsed": false,
    "jupyter": {
     "outputs_hidden": false
    },
    "ExecuteTime": {
     "end_time": "2025-09-28T09:59:01.173251Z",
     "start_time": "2025-09-28T09:59:00.924107Z"
    }
   },
   "source": [
    "netlogo = pynetlogo.NetLogoLink(gui=False)\n",
    "netlogo.load_model(\"./models/Wolf Sheep Predation_v6.nlogo\")"
   ],
   "outputs": [],
   "execution_count": 17
  },
  {
   "cell_type": "markdown",
   "metadata": {},
   "source": [
    "The SALib sampler will automatically generate an appropriate number of samples for Sobol analysis. To calculate first-order, second-order and total sensitivity indices, this gives a sample size of _n*(2p+2)_, where _p_ is the number of input parameters, and _n_ is a baseline sample size which should be large enough to stabilize the estimation of the indices. For this example, we use _n_ = 1000, for a total of 14000 experiments.\n",
    "\n",
    "For more complex analyses, parallelizing the experiments can significantly improve performance. An additional notebook in the pyNetLogo repository demonstrates the use of the ipyparallel library; parallel processing for NetLogo models is also supported by the Exploratory Modeling Workbench (Kwakkel, 2017)."
   ]
  },
  {
   "cell_type": "code",
   "metadata": {
    "collapsed": false,
    "jupyter": {
     "outputs_hidden": false
    },
    "ExecuteTime": {
     "end_time": "2025-09-28T09:59:01.199288Z",
     "start_time": "2025-09-28T09:59:01.180472Z"
    }
   },
   "source": [
    "n = 1024\n",
    "param_values = sobol_sample.sample(problem, n, calc_second_order=True)"
   ],
   "outputs": [],
   "execution_count": 18
  },
  {
   "cell_type": "markdown",
   "metadata": {},
   "source": [
    "The sampler generates an input array of shape (_n*(2p+2)_, _p_) with rows for each experiment and columns for each input parameter."
   ]
  },
  {
   "cell_type": "code",
   "metadata": {
    "collapsed": false,
    "jupyter": {
     "outputs_hidden": false
    },
    "ExecuteTime": {
     "end_time": "2025-09-28T09:59:01.208997Z",
     "start_time": "2025-09-28T09:59:01.206221Z"
    }
   },
   "source": [
    "param_values.shape"
   ],
   "outputs": [
    {
     "data": {
      "text/plain": [
       "(14336, 6)"
      ]
     },
     "execution_count": 19,
     "metadata": {},
     "output_type": "execute_result"
    }
   ],
   "execution_count": 19
  },
  {
   "cell_type": "markdown",
   "metadata": {},
   "source": [
    "Assuming we are interested in the mean number of sheep and wolf agents over a timeframe of 100 ticks, we first create an empty dataframe to store the results."
   ]
  },
  {
   "cell_type": "code",
   "metadata": {
    "collapsed": false,
    "jupyter": {
     "outputs_hidden": false
    },
    "ExecuteTime": {
     "end_time": "2025-09-28T09:59:01.217417Z",
     "start_time": "2025-09-28T09:59:01.214858Z"
    }
   },
   "source": [
    "results = pd.DataFrame(columns=[\"Avg. sheep\", \"Avg. wolves\"])"
   ],
   "outputs": [],
   "execution_count": 20
  },
  {
   "cell_type": "markdown",
   "metadata": {},
   "source": [
    "We then simulate the model over the 14000 experiments, reading input parameters from the param_values array generated by SALib. The repeat_report command is used to track the outcomes of interest over time. \n",
    "\n",
    "To later compare performance with the ipyparallel implementation of the analysis, we also keep track of the elapsed runtime."
   ]
  },
  {
   "cell_type": "code",
   "metadata": {
    "collapsed": false,
    "jupyter": {
     "outputs_hidden": false
    },
    "ExecuteTime": {
     "end_time": "2025-09-28T10:11:22.490187Z",
     "start_time": "2025-09-28T09:59:01.223041Z"
    }
   },
   "source": [
    "import time\n",
    "\n",
    "t0 = time.time()\n",
    "\n",
    "for run in range(param_values.shape[0]):\n",
    "\n",
    "    # Set the input parameters\n",
    "    for i, name in enumerate(problem[\"names\"]):\n",
    "        if name == \"random-seed\":\n",
    "            # The NetLogo random seed requires a different syntax\n",
    "            netlogo.command(\"random-seed {}\".format(param_values[run, i]))\n",
    "        else:\n",
    "            # Otherwise, assume the input parameters are global variables\n",
    "            netlogo.command(\"set {0} {1}\".format(name, param_values[run, i]))\n",
    "\n",
    "    netlogo.command(\"setup\")\n",
    "    # Run for 100 ticks and return the number of sheep and wolf agents at each time step\n",
    "    counts = netlogo.repeat_report([\"count sheep\", \"count wolves\"], 100)\n",
    "\n",
    "    # For each run, save the mean value of the agent counts over time\n",
    "    results.loc[run, \"Avg. sheep\"] = np.mean(counts[\"count sheep\"])\n",
    "    results.loc[run, \"Avg. wolves\"] = np.mean(counts[\"count wolves\"])\n",
    "\n",
    "elapsed = time.time() - t0  # Elapsed runtime in seconds"
   ],
   "outputs": [],
   "execution_count": 21
  },
  {
   "cell_type": "code",
   "metadata": {
    "collapsed": false,
    "jupyter": {
     "outputs_hidden": false
    },
    "ExecuteTime": {
     "end_time": "2025-09-28T10:11:22.522485Z",
     "start_time": "2025-09-28T10:11:22.520217Z"
    }
   },
   "source": [
    "elapsed"
   ],
   "outputs": [
    {
     "data": {
      "text/plain": [
       "741.2642731666565"
      ]
     },
     "execution_count": 22,
     "metadata": {},
     "output_type": "execute_result"
    }
   ],
   "execution_count": 22
  },
  {
   "cell_type": "markdown",
   "metadata": {},
   "source": [
    "The \"to_csv\" dataframe method provides a simple way of saving the results to disk.\n",
    "\n",
    "Pandas supports several more advanced storage options, such as serialization with msgpack, or hierarchical HDF5 storage."
   ]
  },
  {
   "cell_type": "code",
   "metadata": {
    "collapsed": true,
    "jupyter": {
     "outputs_hidden": true
    },
    "ExecuteTime": {
     "end_time": "2025-09-28T10:11:22.565048Z",
     "start_time": "2025-09-28T10:11:22.533987Z"
    }
   },
   "source": [
    "results.to_csv(\"Sobol_sequential.csv\")"
   ],
   "outputs": [],
   "execution_count": 23
  },
  {
   "cell_type": "code",
   "metadata": {
    "collapsed": false,
    "jupyter": {
     "outputs_hidden": false
    },
    "ExecuteTime": {
     "end_time": "2025-09-28T10:11:22.581369Z",
     "start_time": "2025-09-28T10:11:22.574501Z"
    }
   },
   "source": [
    "results = pd.read_csv(\"Sobol_sequential.csv\", header=0, index_col=0)"
   ],
   "outputs": [],
   "execution_count": 24
  },
  {
   "cell_type": "code",
   "metadata": {
    "collapsed": false,
    "jupyter": {
     "outputs_hidden": false
    },
    "ExecuteTime": {
     "end_time": "2025-09-28T10:11:22.596681Z",
     "start_time": "2025-09-28T10:11:22.592017Z"
    }
   },
   "source": [
    "results.head(5)"
   ],
   "outputs": [
    {
     "data": {
      "text/plain": [
       "   Avg. sheep  Avg. wolves\n",
       "0  163.990099    71.099010\n",
       "1  173.841584    71.653465\n",
       "2  196.386139    57.188119\n",
       "3  125.029703    41.584158\n",
       "4  221.128713    58.425743"
      ],
      "text/html": [
       "<div>\n",
       "<style scoped>\n",
       "    .dataframe tbody tr th:only-of-type {\n",
       "        vertical-align: middle;\n",
       "    }\n",
       "\n",
       "    .dataframe tbody tr th {\n",
       "        vertical-align: top;\n",
       "    }\n",
       "\n",
       "    .dataframe thead th {\n",
       "        text-align: right;\n",
       "    }\n",
       "</style>\n",
       "<table border=\"1\" class=\"dataframe\">\n",
       "  <thead>\n",
       "    <tr style=\"text-align: right;\">\n",
       "      <th></th>\n",
       "      <th>Avg. sheep</th>\n",
       "      <th>Avg. wolves</th>\n",
       "    </tr>\n",
       "  </thead>\n",
       "  <tbody>\n",
       "    <tr>\n",
       "      <th>0</th>\n",
       "      <td>163.990099</td>\n",
       "      <td>71.099010</td>\n",
       "    </tr>\n",
       "    <tr>\n",
       "      <th>1</th>\n",
       "      <td>173.841584</td>\n",
       "      <td>71.653465</td>\n",
       "    </tr>\n",
       "    <tr>\n",
       "      <th>2</th>\n",
       "      <td>196.386139</td>\n",
       "      <td>57.188119</td>\n",
       "    </tr>\n",
       "    <tr>\n",
       "      <th>3</th>\n",
       "      <td>125.029703</td>\n",
       "      <td>41.584158</td>\n",
       "    </tr>\n",
       "    <tr>\n",
       "      <th>4</th>\n",
       "      <td>221.128713</td>\n",
       "      <td>58.425743</td>\n",
       "    </tr>\n",
       "  </tbody>\n",
       "</table>\n",
       "</div>"
      ]
     },
     "execution_count": 25,
     "metadata": {},
     "output_type": "execute_result"
    }
   ],
   "execution_count": 25
  },
  {
   "cell_type": "markdown",
   "metadata": {},
   "source": [
    "We can then proceed with the analysis, first using a histogram to visualize output distributions for each outcome:"
   ]
  },
  {
   "cell_type": "code",
   "metadata": {
    "collapsed": false,
    "jupyter": {
     "outputs_hidden": false
    },
    "ExecuteTime": {
     "end_time": "2025-09-28T10:11:22.723378Z",
     "start_time": "2025-09-28T10:11:22.635480Z"
    }
   },
   "source": [
    "sns.set_style(\"white\")\n",
    "sns.set_context(\"talk\")\n",
    "fig, ax = plt.subplots(1, len(results.columns), sharey=True)\n",
    "\n",
    "for i, n in enumerate(results.columns):\n",
    "    ax[i].hist(results[n], 20)\n",
    "    ax[i].set_xlabel(n)\n",
    "\n",
    "ax[0].set_ylabel(\"Counts\")\n",
    "\n",
    "fig.set_size_inches(10, 4)\n",
    "fig.subplots_adjust(wspace=0.1)\n",
    "plt.show()"
   ],
   "outputs": [
    {
     "data": {
      "text/plain": [
       "<Figure size 1000x400 with 2 Axes>"
      ],
      "image/png": "[encoded data removed]"
     },
     "metadata": {},
     "output_type": "display_data",
     "jetTransient": {
      "display_id": null
     }
    }
   ],
   "execution_count": 26
  },
  {
   "cell_type": "markdown",
   "metadata": {},
   "source": [
    "Bivariate scatter plots can be useful to visualize relationships between each input parameter and the outputs. Taking the outcome for the average sheep count as an example, we obtain the following, using the scipy library to calculate the Pearson correlation coefficient (r) for each parameter:"
   ]
  },
  {
   "cell_type": "code",
   "metadata": {
    "collapsed": false,
    "jupyter": {
     "outputs_hidden": false
    },
    "ExecuteTime": {
     "end_time": "2025-09-28T10:11:22.826327Z",
     "start_time": "2025-09-28T10:11:22.752945Z"
    }
   },
   "source": [
    "%matplotlib\n",
    "import scipy\n",
    "\n",
    "nrow = 2\n",
    "ncol = 3\n",
    "fig, ax = plt.subplots(nrow, ncol, sharey=True)\n",
    "sns.set_context(\"talk\")\n",
    "y = results[\"Avg. sheep\"]\n",
    "\n",
    "for i, a in enumerate(ax.flatten()):\n",
    "    x = param_values[:, i]\n",
    "    sns.regplot(\n",
    "        x,\n",
    "        y,\n",
    "        ax=a,\n",
    "        ci=None,\n",
    "        color=\"k\",\n",
    "        scatter_kws={\"alpha\": 0.2, \"s\": 4, \"color\": \"gray\"},\n",
    "    )\n",
    "    pearson = scipy.stats.pearsonr(x, y)\n",
    "    a.annotate(\n",
    "        \"r: {:6.3f}\".format(pearson[0]),\n",
    "        xy=(0.15, 0.85),\n",
    "        xycoords=\"axes fraction\",\n",
    "        fontsize=13,\n",
    "    )\n",
    "    if divmod(i, ncol)[1] > 0:\n",
    "        a.get_yaxis().set_visible(False)\n",
    "    a.set_xlabel(problem[\"names\"][i])\n",
    "    a.set_ylim([0, 1.1 * np.max(y)])\n",
    "\n",
    "fig.set_size_inches(9, 9, forward=True)\n",
    "fig.subplots_adjust(wspace=0.2, hspace=0.3)\n",
    "# plt.savefig('JASSS figures/SA - Scatter.pdf', bbox_inches='tight')\n",
    "# plt.savefig('JASSS figures/SA - Scatter.png', dpi=300, bbox_inches='tight')\n",
    "plt.show()"
   ],
   "outputs": [
    {
     "name": "stdout",
     "output_type": "stream",
     "text": [
      "Using matplotlib backend: inline\n"
     ]
    },
    {
     "ename": "TypeError",
     "evalue": "regplot() takes from 0 to 1 positional arguments but 2 positional arguments (and 4 keyword-only arguments) were given",
     "output_type": "error",
     "traceback": [
      "\u001B[0;31m---------------------------------------------------------------------------\u001B[0m",
      "\u001B[0;31mTypeError\u001B[0m                                 Traceback (most recent call last)",
      "Cell \u001B[0;32mIn[27], line 12\u001B[0m\n\u001B[1;32m     10\u001B[0m \u001B[38;5;28;01mfor\u001B[39;00m i, a \u001B[38;5;129;01min\u001B[39;00m \u001B[38;5;28menumerate\u001B[39m(ax\u001B[38;5;241m.\u001B[39mflatten()):\n\u001B[1;32m     11\u001B[0m     x \u001B[38;5;241m=\u001B[39m param_values[:, i]\n\u001B[0;32m---> 12\u001B[0m     sns\u001B[38;5;241m.\u001B[39mregplot(\n\u001B[1;32m     13\u001B[0m         x,\n\u001B[1;32m     14\u001B[0m         y,\n\u001B[1;32m     15\u001B[0m         ax\u001B[38;5;241m=\u001B[39ma,\n\u001B[1;32m     16\u001B[0m         ci\u001B[38;5;241m=\u001B[39m\u001B[38;5;28;01mNone\u001B[39;00m,\n\u001B[1;32m     17\u001B[0m         color\u001B[38;5;241m=\u001B[39m\u001B[38;5;124m\"\u001B[39m\u001B[38;5;124mk\u001B[39m\u001B[38;5;124m\"\u001B[39m,\n\u001B[1;32m     18\u001B[0m         scatter_kws\u001B[38;5;241m=\u001B[39m{\u001B[38;5;124m\"\u001B[39m\u001B[38;5;124malpha\u001B[39m\u001B[38;5;124m\"\u001B[39m: \u001B[38;5;241m0.2\u001B[39m, \u001B[38;5;124m\"\u001B[39m\u001B[38;5;124ms\u001B[39m\u001B[38;5;124m\"\u001B[39m: \u001B[38;5;241m4\u001B[39m, \u001B[38;5;124m\"\u001B[39m\u001B[38;5;124mcolor\u001B[39m\u001B[38;5;124m\"\u001B[39m: \u001B[38;5;124m\"\u001B[39m\u001B[38;5;124mgray\u001B[39m\u001B[38;5;124m\"\u001B[39m},\n\u001B[1;32m     19\u001B[0m     )\n\u001B[1;32m     20\u001B[0m     pearson \u001B[38;5;241m=\u001B[39m scipy\u001B[38;5;241m.\u001B[39mstats\u001B[38;5;241m.\u001B[39mpearsonr(x, y)\n\u001B[1;32m     21\u001B[0m     a\u001B[38;5;241m.\u001B[39mannotate(\n\u001B[1;32m     22\u001B[0m         \u001B[38;5;124m\"\u001B[39m\u001B[38;5;124mr: \u001B[39m\u001B[38;5;132;01m{:6.3f}\u001B[39;00m\u001B[38;5;124m\"\u001B[39m\u001B[38;5;241m.\u001B[39mformat(pearson[\u001B[38;5;241m0\u001B[39m]),\n\u001B[1;32m     23\u001B[0m         xy\u001B[38;5;241m=\u001B[39m(\u001B[38;5;241m0.15\u001B[39m, \u001B[38;5;241m0.85\u001B[39m),\n\u001B[1;32m     24\u001B[0m         xycoords\u001B[38;5;241m=\u001B[39m\u001B[38;5;124m\"\u001B[39m\u001B[38;5;124maxes fraction\u001B[39m\u001B[38;5;124m\"\u001B[39m,\n\u001B[1;32m     25\u001B[0m         fontsize\u001B[38;5;241m=\u001B[39m\u001B[38;5;241m13\u001B[39m,\n\u001B[1;32m     26\u001B[0m     )\n",
      "\u001B[0;31mTypeError\u001B[0m: regplot() takes from 0 to 1 positional arguments but 2 positional arguments (and 4 keyword-only arguments) were given"
     ]
    }
   ],
   "execution_count": 27
  },
  {
   "cell_type": "markdown",
   "metadata": {},
   "source": [
    "This indicates a positive relationship between the \"sheep-gain-from-food\" parameter and the mean sheep count, and negative relationships for the \"wolf-gain-from-food\" and \"wolf-reproduce\" parameters.\n",
    "\n",
    "We can then use SALib to calculate first-order (S1), second-order (S2) and total (ST) Sobol indices, to estimate each input's contribution to output variance. By default, 95% confidence intervals are estimated for each index."
   ]
  },
  {
   "cell_type": "code",
   "execution_count": 16,
   "metadata": {
    "collapsed": false,
    "jupyter": {
     "outputs_hidden": false
    }
   },
   "outputs": [],
   "source": [
    "Si = sobol.analyze(\n",
    "    problem,\n",
    "    results[\"Avg. sheep\"].values,\n",
    "    calc_second_order=True,\n",
    "    print_to_console=False,\n",
    ")"
   ]
  },
  {
   "cell_type": "markdown",
   "metadata": {},
   "source": [
    "As a simple example, we first select and visualize the first-order and total indices for each input, converting the dictionary returned by SALib to a dataframe."
   ]
  },
  {
   "cell_type": "code",
   "execution_count": 17,
   "metadata": {
    "collapsed": true,
    "jupyter": {
     "outputs_hidden": true
    }
   },
   "outputs": [],
   "source": [
    "Si_filter = {k: Si[k] for k in [\"ST\", \"ST_conf\", \"S1\", \"S1_conf\"]}\n",
    "Si_df = pd.DataFrame(Si_filter, index=problem[\"names\"])"
   ]
  },
  {
   "cell_type": "code",
   "execution_count": 18,
   "metadata": {
    "collapsed": false,
    "jupyter": {
     "outputs_hidden": false
    }
   },
   "outputs": [
    {
     "data": {
      "text/html": [
       "<div>\n",
       "<style scoped>\n",
       "    .dataframe tbody tr th:only-of-type {\n",
       "        vertical-align: middle;\n",
       "    }\n",
       "\n",
       "    .dataframe tbody tr th {\n",
       "        vertical-align: top;\n",
       "    }\n",
       "\n",
       "    .dataframe thead th {\n",
       "        text-align: right;\n",
       "    }\n",
       "</style>\n",
       "<table border=\"1\" class=\"dataframe\">\n",
       "  <thead>\n",
       "    <tr style=\"text-align: right;\">\n",
       "      <th></th>\n",
       "      <th>ST</th>\n",
       "      <th>ST_conf</th>\n",
       "      <th>S1</th>\n",
       "      <th>S1_conf</th>\n",
       "    </tr>\n",
       "  </thead>\n",
       "  <tbody>\n",
       "    <tr>\n",
       "      <th>random-seed</th>\n",
       "      <td>0.057656</td>\n",
       "      <td>0.008074</td>\n",
       "      <td>-0.001338</td>\n",
       "      <td>0.021732</td>\n",
       "    </tr>\n",
       "    <tr>\n",
       "      <th>grass-regrowth-time</th>\n",
       "      <td>0.099517</td>\n",
       "      <td>0.013023</td>\n",
       "      <td>0.044720</td>\n",
       "      <td>0.028337</td>\n",
       "    </tr>\n",
       "    <tr>\n",
       "      <th>sheep-gain-from-food</th>\n",
       "      <td>0.564394</td>\n",
       "      <td>0.078497</td>\n",
       "      <td>0.389392</td>\n",
       "      <td>0.067774</td>\n",
       "    </tr>\n",
       "    <tr>\n",
       "      <th>wolf-gain-from-food</th>\n",
       "      <td>0.233807</td>\n",
       "      <td>0.034103</td>\n",
       "      <td>0.145914</td>\n",
       "      <td>0.042869</td>\n",
       "    </tr>\n",
       "    <tr>\n",
       "      <th>sheep-reproduce</th>\n",
       "      <td>0.244354</td>\n",
       "      <td>0.040873</td>\n",
       "      <td>0.127663</td>\n",
       "      <td>0.051979</td>\n",
       "    </tr>\n",
       "    <tr>\n",
       "      <th>wolf-reproduce</th>\n",
       "      <td>0.232260</td>\n",
       "      <td>0.033511</td>\n",
       "      <td>0.122893</td>\n",
       "      <td>0.038364</td>\n",
       "    </tr>\n",
       "  </tbody>\n",
       "</table>\n",
       "</div>"
      ],
      "text/plain": [
       "                            ST   ST_conf        S1   S1_conf\n",
       "random-seed           0.057656  0.008074 -0.001338  0.021732\n",
       "grass-regrowth-time   0.099517  0.013023  0.044720  0.028337\n",
       "sheep-gain-from-food  0.564394  0.078497  0.389392  0.067774\n",
       "wolf-gain-from-food   0.233807  0.034103  0.145914  0.042869\n",
       "sheep-reproduce       0.244354  0.040873  0.127663  0.051979\n",
       "wolf-reproduce        0.232260  0.033511  0.122893  0.038364"
      ]
     },
     "execution_count": 18,
     "metadata": {},
     "output_type": "execute_result"
    }
   ],
   "source": [
    "Si_df"
   ]
  },
  {
   "cell_type": "code",
   "execution_count": 19,
   "metadata": {
    "collapsed": false,
    "jupyter": {
     "outputs_hidden": false
    }
   },
   "outputs": [
    {
     "data": {
      "image/png": "[encoded data removed]",
      "text/plain": [
       "<Figure size 576x288 with 1 Axes>"
      ]
     },
     "metadata": {},
     "output_type": "display_data"
    }
   ],
   "source": [
    "sns.set_style(\"white\")\n",
    "fig, ax = plt.subplots(1)\n",
    "\n",
    "indices = Si_df[[\"S1\", \"ST\"]]\n",
    "err = Si_df[[\"S1_conf\", \"ST_conf\"]]\n",
    "\n",
    "indices.plot.bar(yerr=err.values.T, ax=ax)\n",
    "fig.set_size_inches(8, 4)\n",
    "\n",
    "# plt.savefig('JASSS figures/SA - Indices.pdf', bbox_inches='tight')\n",
    "# plt.savefig('JASSS figures/SA - Indices.png', dpi=300, bbox_inches='tight')\n",
    "\n",
    "plt.show()"
   ]
  },
  {
   "cell_type": "markdown",
   "metadata": {},
   "source": [
    "The \"sheep-gain-from-food\" parameter has the highest ST index, indicating that it contributes over 50% of output variance when accounting for interactions with other parameters. However, it can be noted that the confidence bounds are overly broad due to the small _n_ value used for sampling, so that a larger sample would be required for reliable results. For instance, the S1 index is estimated to be larger than ST for the \"random-seed\" parameter, which is an artifact of the small sample size.\n",
    "\n",
    "We can use a more sophisticated visualization to include the second-order interactions between inputs."
   ]
  },
  {
   "cell_type": "code",
   "execution_count": 22,
   "metadata": {
    "collapsed": false,
    "jupyter": {
     "outputs_hidden": false
    }
   },
   "outputs": [
    {
     "data": {
      "image/png": "[encoded data removed]",
      "text/plain": [
       "<Figure size 504x504 with 1 Axes>"
      ]
     },
     "metadata": {},
     "output_type": "display_data"
    }
   ],
   "source": [
    "import itertools\n",
    "from math import pi\n",
    "\n",
    "\n",
    "def normalize(x, xmin, xmax):\n",
    "    return (x - xmin) / (xmax - xmin)\n",
    "\n",
    "\n",
    "def plot_circles(ax, locs, names, max_s, stats, smax, smin, fc, ec, lw, zorder):\n",
    "    s = np.asarray([stats[name] for name in names])\n",
    "    s = 0.01 + max_s * np.sqrt(normalize(s, smin, smax))\n",
    "\n",
    "    fill = True\n",
    "    for loc, name, si in zip(locs, names, s):\n",
    "        if fc == \"w\":\n",
    "            fill = False\n",
    "        else:\n",
    "            ec = \"none\"\n",
    "\n",
    "        x = np.cos(loc)\n",
    "        y = np.sin(loc)\n",
    "\n",
    "        circle = plt.Circle(\n",
    "            (x, y),\n",
    "            radius=si,\n",
    "            ec=ec,\n",
    "            fc=fc,\n",
    "            transform=ax.transData._b,\n",
    "            zorder=zorder,\n",
    "            lw=lw,\n",
    "            fill=True,\n",
    "        )\n",
    "        ax.add_artist(circle)\n",
    "\n",
    "\n",
    "def filter(sobol_indices, names, locs, criterion, threshold):\n",
    "    if criterion in [\"ST\", \"S1\", \"S2\"]:\n",
    "        data = sobol_indices[criterion]\n",
    "        data = np.abs(data)\n",
    "        data = data.flatten()  # flatten in case of S2\n",
    "        # TODO:: remove nans\n",
    "\n",
    "        filtered = [(name, locs[i]) for i, name in enumerate(names) if data[i] > threshold]\n",
    "        filtered_names, filtered_locs = zip(*filtered)\n",
    "    elif criterion in [\"ST_conf\", \"S1_conf\", \"S2_conf\"]:\n",
    "        raise NotImplementedError\n",
    "    else:\n",
    "        raise ValueError(\"unknown value for criterion\")\n",
    "\n",
    "    return filtered_names, filtered_locs\n",
    "\n",
    "\n",
    "def plot_sobol_indices(sobol_indices, criterion=\"ST\", threshold=0.01):\n",
    "    \"\"\"plot sobol indices on a radial plot\n",
    "\n",
    "    Parameters\n",
    "    ----------\n",
    "    sobol_indices : dict\n",
    "                    the return from SAlib\n",
    "    criterion : {'ST', 'S1', 'S2', 'ST_conf', 'S1_conf', 'S2_conf'}, optional\n",
    "    threshold : float\n",
    "                only visualize variables with criterion larger than cutoff\n",
    "\n",
    "    \"\"\"\n",
    "    max_linewidth_s2 = 15  # 25*1.8\n",
    "    max_s_radius = 0.3\n",
    "\n",
    "    # prepare data\n",
    "    # use the absolute values of all the indices\n",
    "    # sobol_indices = {key:np.abs(stats) for key, stats in sobol_indices.items()}\n",
    "\n",
    "    # dataframe with ST and S1\n",
    "    sobol_stats = {key: sobol_indices[key] for key in [\"ST\", \"S1\"]}\n",
    "    sobol_stats = pd.DataFrame(sobol_stats, index=problem[\"names\"])\n",
    "\n",
    "    smax = sobol_stats.max().max()\n",
    "    smin = sobol_stats.min().min()\n",
    "\n",
    "    # dataframe with s2\n",
    "    s2 = pd.DataFrame(sobol_indices[\"S2\"], index=problem[\"names\"], columns=problem[\"names\"])\n",
    "    s2[s2 < 0.0] = 0.0  # Set negative values to 0 (artifact from small sample sizes)\n",
    "    s2max = s2.max().max()\n",
    "    s2min = s2.min().min()\n",
    "\n",
    "    names = problem[\"names\"]\n",
    "    n = len(names)\n",
    "    ticklocs = np.linspace(0, 2 * pi, n + 1)\n",
    "    locs = ticklocs[0:-1]\n",
    "\n",
    "    filtered_names, filtered_locs = filter(sobol_indices, names, locs, criterion, threshold)\n",
    "\n",
    "    # setup figure\n",
    "    fig = plt.figure()\n",
    "    ax = fig.add_subplot(111, polar=True)\n",
    "    ax.grid(False)\n",
    "    ax.spines[\"polar\"].set_visible(False)\n",
    "    ax.set_xticks(ticklocs)\n",
    "\n",
    "    ax.set_xticklabels(names)\n",
    "    ax.set_yticklabels([])\n",
    "    ax.set_ylim(top=1.4)\n",
    "    legend(ax)\n",
    "\n",
    "    # plot ST\n",
    "    plot_circles(\n",
    "        ax,\n",
    "        filtered_locs,\n",
    "        filtered_names,\n",
    "        max_s_radius,\n",
    "        sobol_stats[\"ST\"],\n",
    "        smax,\n",
    "        smin,\n",
    "        \"w\",\n",
    "        \"k\",\n",
    "        1,\n",
    "        9,\n",
    "    )\n",
    "\n",
    "    # plot S1\n",
    "    plot_circles(\n",
    "        ax,\n",
    "        filtered_locs,\n",
    "        filtered_names,\n",
    "        max_s_radius,\n",
    "        sobol_stats[\"S1\"],\n",
    "        smax,\n",
    "        smin,\n",
    "        \"k\",\n",
    "        \"k\",\n",
    "        1,\n",
    "        10,\n",
    "    )\n",
    "\n",
    "    # plot S2\n",
    "    for name1, name2 in itertools.combinations(zip(filtered_names, filtered_locs), 2):\n",
    "        name1, loc1 = name1\n",
    "        name2, loc2 = name2\n",
    "\n",
    "        weight = s2.loc[name1, name2]\n",
    "        lw = 0.5 + max_linewidth_s2 * normalize(weight, s2min, s2max)\n",
    "        ax.plot([loc1, loc2], [1, 1], c=\"darkgray\", lw=lw, zorder=1)\n",
    "\n",
    "    return fig\n",
    "\n",
    "\n",
    "from matplotlib.legend_handler import HandlerPatch\n",
    "\n",
    "\n",
    "class HandlerCircle(HandlerPatch):\n",
    "    def create_artists(\n",
    "        self, legend, orig_handle, xdescent, ydescent, width, height, fontsize, trans\n",
    "    ):\n",
    "        center = 0.5 * width - 0.5 * xdescent, 0.5 * height - 0.5 * ydescent\n",
    "        p = plt.Circle(xy=center, radius=orig_handle.radius)\n",
    "        self.update_prop(p, orig_handle, legend)\n",
    "        p.set_transform(trans)\n",
    "        return [p]\n",
    "\n",
    "\n",
    "def legend(ax):\n",
    "    some_identifiers = [\n",
    "        plt.Circle((0, 0), radius=5, color=\"k\", fill=False, lw=1),\n",
    "        plt.Circle((0, 0), radius=5, color=\"k\", fill=True),\n",
    "        plt.Line2D([0, 0.5], [0, 0.5], lw=8, color=\"darkgray\"),\n",
    "    ]\n",
    "    ax.legend(\n",
    "        some_identifiers,\n",
    "        [\"ST\", \"S1\", \"S2\"],\n",
    "        loc=(1, 0.75),\n",
    "        borderaxespad=0.1,\n",
    "        mode=\"expand\",\n",
    "        handler_map={plt.Circle: HandlerCircle()},\n",
    "    )\n",
    "\n",
    "\n",
    "sns.set_style(\"whitegrid\")\n",
    "fig = plot_sobol_indices(Si, criterion=\"ST\", threshold=0.005)\n",
    "fig.set_size_inches(7, 7)\n",
    "# plt.savefig('JASSS figures/Figure 8 - Interactions.pdf', bbox_inches='tight')\n",
    "# plt.savefig('JASSS figures/Figure 8 - Interactions.png', dpi=300, bbox_inches='tight')\n",
    "plt.show()"
   ]
  },
  {
   "cell_type": "markdown",
   "metadata": {},
   "source": [
    "In this case, the sheep-gain-from-food variable has strong interactions with the wolf-gain-from-food and sheep-reproduce inputs in particular. The size of the ST and S1 circles correspond to the normalized variable importances."
   ]
  },
  {
   "cell_type": "markdown",
   "metadata": {},
   "source": [
    "Finally, the kill_workspace() function shuts down the NetLogo instance."
   ]
  },
  {
   "cell_type": "code",
   "execution_count": null,
   "metadata": {
    "collapsed": true,
    "jupyter": {
     "outputs_hidden": true
    }
   },
   "outputs": [],
   "source": [
    "netlogo.kill_workspace()"
   ]
  }
 ],
 "metadata": {
  "kernelspec": {
   "display_name": "Python 3 (ipykernel)",
   "language": "python",
   "name": "python3"
  },
  "language_info": {
   "codemirror_mode": {
    "name": "ipython",
    "version": 3
   },
   "file_extension": ".py",
   "mimetype": "text/x-python",
   "name": "python",
   "nbconvert_exporter": "python",
   "pygments_lexer": "ipython3",
   "version": "3.9.16"
  }
 },
 "nbformat": 4,
 "nbformat_minor": 4
}
